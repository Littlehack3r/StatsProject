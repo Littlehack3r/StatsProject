{
 "nbformat": 4,
 "nbformat_minor": 2,
 "metadata": {
  "language_info": {
   "name": "python",
   "codemirror_mode": {
    "name": "ipython",
    "version": 3
   }
  },
  "orig_nbformat": 2,
  "file_extension": ".py",
  "mimetype": "text/x-python",
  "name": "python",
  "npconvert_exporter": "python",
  "pygments_lexer": "ipython3",
  "version": 3
 },
 "cells": [
  {
   "cell_type": "code",
   "execution_count": null,
   "metadata": {},
   "outputs": [],
   "source": [
    "import numpy as np\n",
    "from matplotlib import pyplot as plt"
   ]
  },
  {
   "cell_type": "code",
   "execution_count": null,
   "metadata": {},
   "outputs": [],
   "source": [
    "xvals = np.linspace(-1,1, 11)\n",
    "fn1 = lambda x: 3*np.ones(len(xvals))\n",
    "fn2 = lambda x: -2+3.*x\n",
    "fn3 = lambda x: 2*x**2\n",
    "fnTrue =lambda x: 2+10*x-2*x**2"
   ]
  },
  {
   "cell_type": "code",
   "execution_count": null,
   "metadata": {},
   "outputs": [],
   "source": [
    "def makeFakeData(fn):\n",
    "       return fn(xvals)+np.random.normal(size=len(xvals))"
   ]
  },
  {
   "cell_type": "code",
   "execution_count": null,
   "metadata": {},
   "outputs": [],
   "source": [
    "np.polyfit(xvals,makeFakeData(fn1),2)"
   ]
  },
  {
   "cell_type": "code",
   "execution_count": null,
   "metadata": {},
   "outputs": [],
   "source": [
    "dat_out = []\n",
    "for indx in np.arange(1000):\n",
    "    dat_out.append(np.polyfit(xvals,makeFakeData(fn2),1))\n",
    "dat_out = np.array(dat_out)\n",
    "print (dat_out)\n",
    "print np.mean(dat_out[:,0])\n",
    "print np.mean(dat_out[:,1])\n",
    "print np.std(dat_out[:,0])\n",
    "\n",
    "print \"Var C1: \" + str(np.var(dat_out[;,0]))\n",
    "print \"Var C2: \" + str(np.var(dat_out[:,1]))\n",
    "print \"Cov is: \" + str(np.cov(dat_out[;,0],dat_out[;,1]))\n",
    "\n",
    "plt.scatter(dat_out[:,0],dat_out[:,1])"
   ]
  },
  {
   "cell_type": "code",
   "execution_count": null,
   "metadata": {},
   "outputs": [],
   "source": [
    "<matplotlib.collections.PathCollection at 0x11bd85f50>"
   ]
  }
 ]
}