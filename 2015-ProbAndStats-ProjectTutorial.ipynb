{
 "cells": [
  {
   "cell_type": "code",
   "execution_count": 18,
   "metadata": {},
   "outputs": [],
   "source": [
    "import numpy as np\n",
    "from matplotlib import pyplot as plt"
   ]
  },
  {
   "cell_type": "code",
   "execution_count": null,
   "metadata": {},
   "outputs": [],
   "source": []
  },
  {
   "cell_type": "markdown",
   "metadata": {
    "collapsed": true
   },
   "source": [
    "## Setup: x values\n",
    "Define the 'true' function (and test functions).\n",
    "Define the x values (xvals)"
   ]
  },
  {
   "cell_type": "code",
   "execution_count": 19,
   "metadata": {},
   "outputs": [],
   "source": [
    "xvals = np.linspace(-1,1, 11)\n",
    "fn1 = lambda x: 3*np.ones(len(xvals))\n",
    "fn2 = lambda x: -2+3.*x\n",
    "fn3 = lambda x: 2*x**2\n",
    "fnTrue =lambda x: 2+10*x-2*x**2"
   ]
  },
  {
   "cell_type": "code",
   "execution_count": 20,
   "metadata": {},
   "outputs": [],
   "source": [
    "def makeFakeData(fn):\n",
    "       return fn(xvals)+np.random.normal(size=len(xvals))"
   ]
  },
  {
   "cell_type": "code",
   "execution_count": 4,
   "metadata": {},
   "outputs": [
    {
     "data": {
      "text/plain": "array([-0.07061308,  0.13623415,  3.25208879])"
     },
     "execution_count": 4,
     "metadata": {},
     "output_type": "execute_result"
    }
   ],
   "source": [
    "np.polyfit(xvals,makeFakeData(fn1),2)"
   ]
  },
  {
   "cell_type": "code",
   "execution_count": 5,
   "metadata": {},
   "outputs": [
    {
     "ename": "SyntaxError",
     "evalue": "Missing parentheses in call to 'print'. Did you mean print(dat_out)? (<ipython-input-5-bf95bf31141d>, line 5)",
     "output_type": "error",
     "traceback": [
      "\u001b[1;36m  File \u001b[1;32m\"<ipython-input-5-bf95bf31141d>\"\u001b[1;36m, line \u001b[1;32m5\u001b[0m\n\u001b[1;33m    print dat_out\u001b[0m\n\u001b[1;37m                ^\u001b[0m\n\u001b[1;31mSyntaxError\u001b[0m\u001b[1;31m:\u001b[0m Missing parentheses in call to 'print'. Did you mean print(dat_out)?\n"
     ]
    }
   ],
   "source": [
    "dat_out = []\n",
    "for indx in np.arange(500):\n",
    "    dat_out.append(np.polyfit(xvals,makeFakeData(fn3),2))\n",
    "dat_out = np.array(dat_out)\n",
    "print(dat_out)\n",
    "print np.mean(dat_out[:,0])\n",
    "print np.mean(dat_out[:,1])\n",
    "print np.std(dat_out[:,0])\n",
    "print np.cov(dat_out[:,0],dat_out[:,1])\n",
    "\n",
    "plt.scatter(dat_out[:,0],dat_out[:,1])"
   ]
  },
  {
   "cell_type": "code",
   "execution_count": 0,
   "metadata": {},
   "outputs": [],
   "source": [
    "#def mygauss(x, mu, sigma):\n",
    "#    np.exp(- np.power(x-mu,2)/(2.*sigma**2) ) /np.sqrt(2*np.pi)\n",
    "xvalsTest = np.linspace(-20,20,500)\n",
    "#yvalsTest =  mygauss(xvalsTest,0,1)\n",
    "yvalsTest = np.exp( - np.power(xvalsTest-0,2)/(2.*1**2) )/ np.sqrt(2*np.pi)\n",
    "plt.plot(xvalsTest,yvalsTest)\n",
    "plt.savefig(\"my_fig.png\")\n",
    "plt.xlabel(\"Hello there\")\n",
    "plt.ylabel(r'${\\cal L}_m^\\gamma$')\n",
    "plt.show()"
   ]
  },
  {
   "cell_type": "code",
   "execution_count": 0,
   "metadata": {},
   "outputs": [],
   "source": [
    "\n"
   ]
  },
  {
   "cell_type": "markdown",
   "metadata": {},
   "source": [
    "def mygauss(x, mu, sigma):\n",
    "    np.exp(- (x-mu)**2/(2.*sigma**2) ) /np.sqrt(2*np.pi)\n",
    "mygauss(np.linspace(-20,20),0,1)"
   ]
  },
  {
   "cell_type": "markdown",
   "metadata": {},
   "source": [
    "## Create and plot data"
   ]
  },
  {
   "cell_type": "code",
   "execution_count": 0,
   "metadata": {},
   "outputs": [],
   "source": [
    "yExamples =makeFakeData(fn3)"
   ]
  },
  {
   "cell_type": "code",
   "execution_count": 0,
   "metadata": {},
   "outputs": [],
   "source": [
    "plt.plot(xvals,yExamples,'o');\n",
    "plt.show()"
   ]
  },
  {
   "cell_type": "markdown",
   "metadata": {},
   "source": [
    "## Fit quadratic, plot quadratic and fit\n",
    "Words for fun and profit"
   ]
  },
  {
   "cell_type": "code",
   "execution_count": 0,
   "metadata": {},
   "outputs": [],
   "source": [
    "z = np.polyfit(xvals,yExamples,2)\n",
    "z\n",
    "fn = np.poly1d(z)"
   ]
  },
  {
   "cell_type": "code",
   "execution_count": 0,
   "metadata": {},
   "outputs": [],
   "source": [
    "zvalsMany = np.array(\n",
    "    [np.polyfit(xvals,makeFakeData(fn1),2) for k in np.arange(30)]\n",
    ")"
   ]
  },
  {
   "cell_type": "code",
   "execution_count": 0,
   "metadata": {},
   "outputs": [],
   "source": [
    "c0hatV1 = [c0 for c0,c1,c2 in zvalsMany]\n",
    "c0hatV2 = zvalsMany[:,0]\n",
    "c1hatV2 = zvalsMany[:,1]\n",
    "np.mean(c0hatV2)\n",
    "indx = np.arange(len(c0hatV1))\n",
    "result =0\n",
    "for i in indx:\n",
    "    result += (c0hatV2[indx] - np.mean(c0hatV2))*(c1hatV2[indx] - np.mean(c1hatV2))\n",
    "result = result/(1.0*len(c0hatV1))"
   ]
  },
  {
   "cell_type": "code",
   "execution_count": 0,
   "metadata": {},
   "outputs": [],
   "source": [
    "np.std(c0hatV2)"
   ]
  },
  {
   "cell_type": "code",
   "execution_count": 0,
   "metadata": {},
   "outputs": [],
   "source": [
    "xvals_show = np.linspace(-1,1,200);\n",
    "plt.plot(xvals,yExamples,'o')\n",
    "plt.plot(xvals_show,fn(xvals_show))\n",
    "plt.show()"
   ]
  },
  {
   "cell_type": "code",
   "execution_count": 0,
   "metadata": {},
   "outputs": [],
   "source": [
    "def get_random_coefs(deg):\n",
    "    yvals = makeFakeData(fnTrue)\n",
    "    return np.polyfit(xvals,yvals, deg) "
   ]
  },
  {
   "cell_type": "code",
   "execution_count": 0,
   "metadata": {},
   "outputs": [],
   "source": [
    "get_random_coefs(2)"
   ]
  },
  {
   "cell_type": "code",
   "execution_count": null,
   "metadata": {
    "collapsed": true
   },
   "outputs": [],
   "source": []
  }
 ],
 "metadata": {
  "kernelspec": {
   "display_name": "Python 2",
   "language": "python",
   "name": "python2"
  },
  "language_info": {
   "codemirror_mode": {
    "name": "ipython",
    "version": 2
   },
   "file_extension": ".py",
   "mimetype": "text/x-python",
   "name": "python",
   "nbconvert_exporter": "python",
   "pygments_lexer": "ipython2",
   "version": "3.7.4"
  }
 },
 "nbformat": 4,
 "nbformat_minor": 1
}